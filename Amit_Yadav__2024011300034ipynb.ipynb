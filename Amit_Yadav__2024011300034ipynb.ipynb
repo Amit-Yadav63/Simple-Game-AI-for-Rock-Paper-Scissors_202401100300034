{
  "nbformat": 4,
  "nbformat_minor": 0,
  "metadata": {
    "colab": {
      "provenance": [],
      "toc_visible": true
    },
    "kernelspec": {
      "name": "python3",
      "display_name": "Python 3"
    },
    "language_info": {
      "name": "python"
    }
  },
  "cells": [
    {
      "cell_type": "code",
      "execution_count": 3,
      "metadata": {
        "id": "aMOAnP2ovu7m"
      },
      "outputs": [],
      "source": [
        "import random\n",
        "\n",
        "# Function to get AI move based on player's history\n",
        "def get_ai_move(history):\n",
        "    if not history:\n",
        "        return random.choice([\"rock\", \"paper\", \"scissors\"])\n",
        "\n",
        "    most_common_move = max(set(history), key=history.count)\n",
        "\n",
        "    counter_moves = {\n",
        "        \"rock\": \"paper\",\n",
        "        \"paper\": \"scissors\",\n",
        "        \"scissors\": \"rock\"\n",
        "    }\n",
        "\n",
        "    return counter_moves[most_common_move]"
      ]
    },
    {
      "cell_type": "code",
      "source": [
        "# Function to determine winner\n",
        "def determine_winner(player, ai):\n",
        "    if player == ai:\n",
        "        return \"It's a tie!\"\n",
        "    elif (player == \"rock\" and ai == \"scissors\") or \\\n",
        "         (player == \"scissors\" and ai == \"paper\") or \\\n",
        "         (player == \"paper\" and ai == \"rock\"):\n",
        "        return \"You win!\"\n",
        "    else:\n",
        "        return \"AI wins!\"\n"
      ],
      "metadata": {
        "id": "QZYR8R6rxGgr"
      },
      "execution_count": 4,
      "outputs": []
    },
    {
      "cell_type": "code",
      "source": [
        "# Main function to run the game\n",
        "def main():\n",
        "    history = []\n",
        "\n",
        "    while True:\n",
        "        player_move = input(\"Enter rock, paper, or scissors (or 'quit' to exit): \").lower()\n",
        "\n",
        "        if player_move == \"quit\":\n",
        "            break\n",
        "        if player_move not in [\"rock\", \"paper\", \"scissors\"]:\n",
        "            print(\"Invalid input. Try again.\")\n",
        "            continue\n",
        "\n",
        "        ai_move = get_ai_move(history)\n",
        "        print(f\"AI chose: {ai_move}\")\n",
        "\n",
        "        result = determine_winner(player_move, ai_move)\n",
        "        print(result)\n",
        "\n",
        "        history.append(player_move)\n",
        "        print(\"------------------\")\n",
        "\n",
        "    print(\"Thanks for playing!\")\n"
      ],
      "metadata": {
        "id": "M6QofugCxOqy"
      },
      "execution_count": 5,
      "outputs": []
    },
    {
      "cell_type": "code",
      "source": [
        "# Run the game\n",
        "if __name__ == \"__main__\":\n",
        "    main()"
      ],
      "metadata": {
        "colab": {
          "base_uri": "https://localhost:8080/"
        },
        "id": "Fy8cFzfzxTJR",
        "outputId": "fd45c91c-bf79-4be8-d374-c797038b5839"
      },
      "execution_count": 6,
      "outputs": [
        {
          "output_type": "stream",
          "name": "stdout",
          "text": [
            "Enter rock, paper, or scissors (or 'quit' to exit): rock\n",
            "AI chose: rock\n",
            "It's a tie!\n",
            "------------------\n",
            "Enter rock, paper, or scissors (or 'quit' to exit): quit\n",
            "Thanks for playing!\n"
          ]
        }
      ]
    }
  ]
}